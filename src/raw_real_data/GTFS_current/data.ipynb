{
 "cells": [
  {
   "cell_type": "code",
   "execution_count": 22,
   "metadata": {},
   "outputs": [],
   "source": [
    "import pandas as pd"
   ]
  },
  {
   "cell_type": "code",
   "execution_count": 23,
   "metadata": {},
   "outputs": [
    {
     "name": "stderr",
     "output_type": "stream",
     "text": [
      "C:\\Users\\Nguyen Lam\\AppData\\Local\\Temp\\ipykernel_7176\\2359827194.py:1: DtypeWarning: Columns (8) have mixed types. Specify dtype option on import or set low_memory=False.\n",
      "  stop_times = pd.read_csv('stop_times.txt')\n"
     ]
    }
   ],
   "source": [
    "stop_times = pd.read_csv('stop_times.txt')\n",
    "stops = pd.read_csv('stops.txt')"
   ]
  },
  {
   "cell_type": "code",
   "execution_count": 24,
   "metadata": {},
   "outputs": [],
   "source": [
    "stop_times['stop_id'] = stop_times['stop_id'].astype(str)\n",
    "stops['stop_id'] = stops['stop_id'].astype(str)"
   ]
  },
  {
   "cell_type": "code",
   "execution_count": 25,
   "metadata": {},
   "outputs": [],
   "source": [
    "stop_times = stop_times.merge(stops[['stop_id', 'stop_name']], on='stop_id')"
   ]
  },
  {
   "cell_type": "code",
   "execution_count": 26,
   "metadata": {},
   "outputs": [],
   "source": [
    "first_stops = stop_times.sort_values(['trip_id', 'stop_sequence']).groupby('trip_id').first().reset_index()\n",
    "last_stops = stop_times.sort_values(['trip_id', 'stop_sequence']).groupby('trip_id').last().reset_index()"
   ]
  },
  {
   "cell_type": "code",
   "execution_count": 27,
   "metadata": {},
   "outputs": [
    {
     "data": {
      "text/html": [
       "<div>\n",
       "<style scoped>\n",
       "    .dataframe tbody tr th:only-of-type {\n",
       "        vertical-align: middle;\n",
       "    }\n",
       "\n",
       "    .dataframe tbody tr th {\n",
       "        vertical-align: top;\n",
       "    }\n",
       "\n",
       "    .dataframe thead th {\n",
       "        text-align: right;\n",
       "    }\n",
       "</style>\n",
       "<table border=\"1\" class=\"dataframe\">\n",
       "  <thead>\n",
       "    <tr style=\"text-align: right;\">\n",
       "      <th></th>\n",
       "      <th>from_stop</th>\n",
       "      <th>start_time</th>\n",
       "      <th>to_stop</th>\n",
       "      <th>arrive_time</th>\n",
       "    </tr>\n",
       "  </thead>\n",
       "  <tbody>\n",
       "    <tr>\n",
       "      <th>0</th>\n",
       "      <td>UW Bothell &amp; Cascadia College</td>\n",
       "      <td>19:23:00</td>\n",
       "      <td>Lynnwood City Center Station</td>\n",
       "      <td>20:05:00</td>\n",
       "    </tr>\n",
       "    <tr>\n",
       "      <th>1</th>\n",
       "      <td>Lynnwood City Center Station Bay B5</td>\n",
       "      <td>20:15:00</td>\n",
       "      <td>UW Bothell &amp; Cascadia College</td>\n",
       "      <td>20:53:00</td>\n",
       "    </tr>\n",
       "    <tr>\n",
       "      <th>2</th>\n",
       "      <td>Smokey Point Transit Center Bay 3</td>\n",
       "      <td>19:50:00</td>\n",
       "      <td>272nd Pl NW &amp; 99th Ave NW</td>\n",
       "      <td>20:33:00</td>\n",
       "    </tr>\n",
       "    <tr>\n",
       "      <th>3</th>\n",
       "      <td>Broadway St &amp; E Haller Ave</td>\n",
       "      <td>07:16:00</td>\n",
       "      <td>Smokey Point Transit Center Bay 4</td>\n",
       "      <td>07:35:00</td>\n",
       "    </tr>\n",
       "    <tr>\n",
       "      <th>4</th>\n",
       "      <td>Broadway St &amp; E Haller Ave</td>\n",
       "      <td>08:16:00</td>\n",
       "      <td>Smokey Point Transit Center Bay 4</td>\n",
       "      <td>08:36:00</td>\n",
       "    </tr>\n",
       "    <tr>\n",
       "      <th>...</th>\n",
       "      <td>...</td>\n",
       "      <td>...</td>\n",
       "      <td>...</td>\n",
       "      <td>...</td>\n",
       "    </tr>\n",
       "    <tr>\n",
       "      <th>5889</th>\n",
       "      <td>4th Ave S &amp; S Jackson St</td>\n",
       "      <td>13:30:00</td>\n",
       "      <td>Lynnwood City Center Station Bay A5</td>\n",
       "      <td>14:08:00</td>\n",
       "    </tr>\n",
       "    <tr>\n",
       "      <th>5890</th>\n",
       "      <td>Lynnwood City Center Station Bay D1</td>\n",
       "      <td>10:45:00</td>\n",
       "      <td>5th Ave S &amp; S Jackson St</td>\n",
       "      <td>11:28:00</td>\n",
       "    </tr>\n",
       "    <tr>\n",
       "      <th>5891</th>\n",
       "      <td>Lynnwood City Center Station Bay D1</td>\n",
       "      <td>08:45:00</td>\n",
       "      <td>5th Ave S &amp; S Jackson St</td>\n",
       "      <td>09:44:00</td>\n",
       "    </tr>\n",
       "    <tr>\n",
       "      <th>5892</th>\n",
       "      <td>4th Ave S &amp; S Jackson St</td>\n",
       "      <td>12:00:00</td>\n",
       "      <td>Lynnwood City Center Station Bay A5</td>\n",
       "      <td>12:38:00</td>\n",
       "    </tr>\n",
       "    <tr>\n",
       "      <th>5893</th>\n",
       "      <td>4th Ave S &amp; S Jackson St</td>\n",
       "      <td>14:00:00</td>\n",
       "      <td>Lynnwood City Center Station Bay A5</td>\n",
       "      <td>14:38:00</td>\n",
       "    </tr>\n",
       "  </tbody>\n",
       "</table>\n",
       "<p>5894 rows × 4 columns</p>\n",
       "</div>"
      ],
      "text/plain": [
       "                                from_stop start_time  \\\n",
       "0           UW Bothell & Cascadia College   19:23:00   \n",
       "1     Lynnwood City Center Station Bay B5   20:15:00   \n",
       "2       Smokey Point Transit Center Bay 3   19:50:00   \n",
       "3              Broadway St & E Haller Ave   07:16:00   \n",
       "4              Broadway St & E Haller Ave   08:16:00   \n",
       "...                                   ...        ...   \n",
       "5889             4th Ave S & S Jackson St   13:30:00   \n",
       "5890  Lynnwood City Center Station Bay D1   10:45:00   \n",
       "5891  Lynnwood City Center Station Bay D1   08:45:00   \n",
       "5892             4th Ave S & S Jackson St   12:00:00   \n",
       "5893             4th Ave S & S Jackson St   14:00:00   \n",
       "\n",
       "                                  to_stop arrive_time  \n",
       "0            Lynnwood City Center Station    20:05:00  \n",
       "1           UW Bothell & Cascadia College    20:53:00  \n",
       "2               272nd Pl NW & 99th Ave NW    20:33:00  \n",
       "3       Smokey Point Transit Center Bay 4    07:35:00  \n",
       "4       Smokey Point Transit Center Bay 4    08:36:00  \n",
       "...                                   ...         ...  \n",
       "5889  Lynnwood City Center Station Bay A5    14:08:00  \n",
       "5890             5th Ave S & S Jackson St    11:28:00  \n",
       "5891             5th Ave S & S Jackson St    09:44:00  \n",
       "5892  Lynnwood City Center Station Bay A5    12:38:00  \n",
       "5893  Lynnwood City Center Station Bay A5    14:38:00  \n",
       "\n",
       "[5894 rows x 4 columns]"
      ]
     },
     "execution_count": 27,
     "metadata": {},
     "output_type": "execute_result"
    }
   ],
   "source": [
    "trips_summary = pd.DataFrame({\n",
    "    'from_stop': first_stops['stop_name'],\n",
    "    'start_time': first_stops['departure_time'],\n",
    "    'to_stop': last_stops['stop_name'],\n",
    "    'arrive_time': last_stops['arrival_time'],\n",
    "})\n",
    "\n",
    "trips_summary.to_csv('trips_summary.csv', index=False)\n",
    "trips_summary"
   ]
  }
 ],
 "metadata": {
  "kernelspec": {
   "display_name": "Python 3",
   "language": "python",
   "name": "python3"
  },
  "language_info": {
   "codemirror_mode": {
    "name": "ipython",
    "version": 3
   },
   "file_extension": ".py",
   "mimetype": "text/x-python",
   "name": "python",
   "nbconvert_exporter": "python",
   "pygments_lexer": "ipython3",
   "version": "3.13.1"
  }
 },
 "nbformat": 4,
 "nbformat_minor": 2
}
